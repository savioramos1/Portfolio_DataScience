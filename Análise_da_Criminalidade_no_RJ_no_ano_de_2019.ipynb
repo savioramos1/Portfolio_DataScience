{
  "nbformat": 4,
  "nbformat_minor": 0,
  "metadata": {
    "colab": {
      "name": "Análise da Criminalidade no RJ.ipynb",
      "provenance": [],
      "authorship_tag": "ABX9TyPaTAPWWvf3UZdkTCqykmI0",
      "include_colab_link": true
    },
    "kernelspec": {
      "name": "python3",
      "display_name": "Python 3"
    },
    "language_info": {
      "name": "python"
    }
  },
  "cells": [
    {
      "cell_type": "markdown",
      "metadata": {
        "id": "view-in-github",
        "colab_type": "text"
      },
      "source": [
        "<a href=\"https://colab.research.google.com/github/savioramos1/Portfolio_DataScience/blob/main/An%C3%A1lise_da_Criminalidade_no_RJ_no_ano_de_2019.ipynb\" target=\"_parent\"><img src=\"https://colab.research.google.com/assets/colab-badge.svg\" alt=\"Open In Colab\"/></a>"
      ]
    },
    {
      "cell_type": "markdown",
      "source": [
        "#Análise dos dados de Criminalidade no Rio de Janeiro no ano de 2019"
      ],
      "metadata": {
        "id": "NOylVt1z_JhI"
      }
    },
    {
      "cell_type": "markdown",
      "source": [
        "O Rio de Janeiro é uma das cidades brasileiras mais conhecida mundialmente, tendo incríveis atrações turísticas e linda beleza natural. No entanto, a cidade está sempre em evidência na mídia em relação a questões de **segurança pública**, esse problema assolam os cariocas a décadas.\n",
        "\n",
        "O objetivo desse projeto é realizar uma **análise exploratória** dos dados referentes a criminalidade no Rio de Janeiro afim de obter alguns insights."
      ],
      "metadata": {
        "id": "CMxa8RQj_RG3"
      }
    },
    {
      "cell_type": "markdown",
      "source": [
        "##Obtenção dos Dados"
      ],
      "metadata": {
        "id": "s_D5kI9X7Gaj"
      }
    },
    {
      "cell_type": "markdown",
      "source": [
        "Para realização dessa análise, foi obtido os dados do [Kaggle](https://www.kaggle.com/datasets/victorcvriano/crimes-estado-rio-de-janeiro-2009-a-2019), no qual, foi extraido do [ISP Dados Abertos](http://www.ispdados.rj.gov.br/estatistica.html), uma base de dados abertos do Instituto de Segurança Publica de registros criminais e atividade policial do estado do Rio de Janeiro.\n",
        "\n",
        "O dataset contém informações dos crimes no Rio de Janeiro no período de 2009 a 2019, o mesmo foi divido em quatro partes. Nesse projeto, iremos analisar apenas o ano de 2019."
      ],
      "metadata": {
        "id": "GZ1zOH587J6U"
      }
    },
    {
      "cell_type": "code",
      "execution_count": null,
      "metadata": {
        "id": "ZTLxg0KsBelL"
      },
      "outputs": [],
      "source": [
        "#Importar bibliotecas necessárias\n",
        "import pandas as pd\n",
        "import numpy as np\n",
        "import matplotlib.pyplot as plt\n",
        "import seaborn as sns\n",
        "import datetime\n",
        "plt.style.use('ggplot')\n",
        "\n",
        "# Importar o arquivo\n",
        "file_path = \"https://www.dropbox.com/s/828xprxvpoi66kg/parte4.csv?dl=1\"\n",
        "\n",
        "\n",
        "# Importar o arquivo para um DataFrame\n",
        "df = pd.read_csv(file_path, sep=\";\", encoding='iso-8859-1')\n",
        "\n",
        "rj = df.loc[df.ano == 2019] # selecionando somente os dados do ano de 2019\n",
        "df_rj = pd.DataFrame(rj) # criando o dataset do RJ"
      ]
    },
    {
      "cell_type": "markdown",
      "source": [
        "###Variáveis a serem exploradas do dataset:\n",
        "\n",
        "\n",
        "*   `ano`: ano da ocorrência\n",
        "*   `mes`: mês da ocorrência\n",
        "*   `hora`: hora do acontecimento da ocorrência\n",
        "*   `Roubo a transeunte`: quantidade de ocorrências de roubo a transeunte\n",
        "*   `idade`: Idade da vítima\n",
        "*   `Roubo de veículo`: quantidade de ocorrências de roubo de veículos\n",
        "*   `Furto a transeunte`: quantidade de ocorrências de furto a transeunte\n",
        "*   `Furto de telefone celular`: quantidade de ocorrências de furto de telefone celular\n",
        "*   `Furto de veículos`: quantidade de ocorrências de furto de veiculos\n",
        "*   `Roubo em coletivo`: quantidade de ocorrências de roubo em coletivo\n",
        "*   `Furto em coletivo`: quantidade de ocorrências de furto em coletivo\n",
        "*   `Roubo de carga`: quantidade de ocorrências de roubo de carga\n",
        "*   `Homicídio doloso`: quantidade de ocorrências de homecídio doloso\n",
        "\n",
        "\n",
        "\n"
      ],
      "metadata": {
        "id": "_F5LbDU85XbX"
      }
    },
    {
      "cell_type": "markdown",
      "source": [
        "A primeira etapa da análise será imprimir as primeiras linhas para podemos visualizar a aparência do dataset."
      ],
      "metadata": {
        "id": "90qdesTcFO4C"
      }
    },
    {
      "cell_type": "code",
      "source": [
        "df_rj.head()"
      ],
      "metadata": {
        "colab": {
          "base_uri": "https://localhost:8080/",
          "height": 366
        },
        "id": "THkXzlnlEALX",
        "outputId": "a6f64209-b532-4828-9f17-24ad79d3d700"
      },
      "execution_count": null,
      "outputs": [
        {
          "output_type": "execute_result",
          "data": {
            "text/plain": [
              "             controle   ano      mes           titulo_do total_rbft conteudo  \\\n",
              "451831  00255171-2019  2019  Janeiro  Roubo a transeunte      Roubo    casos   \n",
              "451832  00466231-2019  2019  Janeiro  Furto a transeunte      Furto    casos   \n",
              "451833  00490161-2019  2019  Janeiro  Furto a transeunte      Furto    casos   \n",
              "451834  00504871-2019  2019  Janeiro   Furto de veículos      Furto    casos   \n",
              "451835  00788311-2019  2019  Janeiro  Furto a transeunte      Furto    casos   \n",
              "\n",
              "                      dp              cisp    data_com   data_fato  ...  \\\n",
              "451831  012a. Copacabana  012a. Copacabana  2019-01-01  2019-01-01  ...   \n",
              "451832  012a. Copacabana  012a. Copacabana  2019-01-01  2019-01-01  ...   \n",
              "451833       023a. Meier   005a. Mem de Sá  2019-01-01  2018-12-31  ...   \n",
              "451834    130a. Quissamã    130a. Quissamã  2019-01-01  2019-01-01  ...   \n",
              "451835   005a. Mem de Sá  012a. Copacabana  2019-01-01  2018-12-31  ...   \n",
              "\n",
              "                  municipio_fato        local           sexo data_nasc  \\\n",
              "451831  Rio de Janeiro (Capital)  Via pública  não se aplica       NaN   \n",
              "451832  Rio de Janeiro (Capital)  Via pública  não se aplica       NaN   \n",
              "451833  Rio de Janeiro (Capital)  Via pública  não se aplica       NaN   \n",
              "451834                 Carapebus        Praia  não se aplica       NaN   \n",
              "451835  Rio de Janeiro (Capital)  Via pública  não se aplica       NaN   \n",
              "\n",
              "                  cor      profissao        relacao     bairro_vit  \\\n",
              "451831  não se aplica  não se aplica  Não se aplica  não se aplica   \n",
              "451832  não se aplica  não se aplica  Não se aplica  não se aplica   \n",
              "451833  não se aplica  não se aplica  Não se aplica  não se aplica   \n",
              "451834  não se aplica  não se aplica  Não se aplica  não se aplica   \n",
              "451835  não se aplica  não se aplica  Não se aplica  não se aplica   \n",
              "\n",
              "        municipio_vit idade  \n",
              "451831  não se aplica   NaN  \n",
              "451832  não se aplica   NaN  \n",
              "451833  não se aplica   NaN  \n",
              "451834  não se aplica   NaN  \n",
              "451835  não se aplica   NaN  \n",
              "\n",
              "[5 rows x 23 columns]"
            ],
            "text/html": [
              "\n",
              "  <div id=\"df-0c392b73-77d2-4786-a7b7-56977c87b467\">\n",
              "    <div class=\"colab-df-container\">\n",
              "      <div>\n",
              "<style scoped>\n",
              "    .dataframe tbody tr th:only-of-type {\n",
              "        vertical-align: middle;\n",
              "    }\n",
              "\n",
              "    .dataframe tbody tr th {\n",
              "        vertical-align: top;\n",
              "    }\n",
              "\n",
              "    .dataframe thead th {\n",
              "        text-align: right;\n",
              "    }\n",
              "</style>\n",
              "<table border=\"1\" class=\"dataframe\">\n",
              "  <thead>\n",
              "    <tr style=\"text-align: right;\">\n",
              "      <th></th>\n",
              "      <th>controle</th>\n",
              "      <th>ano</th>\n",
              "      <th>mes</th>\n",
              "      <th>titulo_do</th>\n",
              "      <th>total_rbft</th>\n",
              "      <th>conteudo</th>\n",
              "      <th>dp</th>\n",
              "      <th>cisp</th>\n",
              "      <th>data_com</th>\n",
              "      <th>data_fato</th>\n",
              "      <th>...</th>\n",
              "      <th>municipio_fato</th>\n",
              "      <th>local</th>\n",
              "      <th>sexo</th>\n",
              "      <th>data_nasc</th>\n",
              "      <th>cor</th>\n",
              "      <th>profissao</th>\n",
              "      <th>relacao</th>\n",
              "      <th>bairro_vit</th>\n",
              "      <th>municipio_vit</th>\n",
              "      <th>idade</th>\n",
              "    </tr>\n",
              "  </thead>\n",
              "  <tbody>\n",
              "    <tr>\n",
              "      <th>451831</th>\n",
              "      <td>00255171-2019</td>\n",
              "      <td>2019</td>\n",
              "      <td>Janeiro</td>\n",
              "      <td>Roubo a transeunte</td>\n",
              "      <td>Roubo</td>\n",
              "      <td>casos</td>\n",
              "      <td>012a. Copacabana</td>\n",
              "      <td>012a. Copacabana</td>\n",
              "      <td>2019-01-01</td>\n",
              "      <td>2019-01-01</td>\n",
              "      <td>...</td>\n",
              "      <td>Rio de Janeiro (Capital)</td>\n",
              "      <td>Via pública</td>\n",
              "      <td>não se aplica</td>\n",
              "      <td>NaN</td>\n",
              "      <td>não se aplica</td>\n",
              "      <td>não se aplica</td>\n",
              "      <td>Não se aplica</td>\n",
              "      <td>não se aplica</td>\n",
              "      <td>não se aplica</td>\n",
              "      <td>NaN</td>\n",
              "    </tr>\n",
              "    <tr>\n",
              "      <th>451832</th>\n",
              "      <td>00466231-2019</td>\n",
              "      <td>2019</td>\n",
              "      <td>Janeiro</td>\n",
              "      <td>Furto a transeunte</td>\n",
              "      <td>Furto</td>\n",
              "      <td>casos</td>\n",
              "      <td>012a. Copacabana</td>\n",
              "      <td>012a. Copacabana</td>\n",
              "      <td>2019-01-01</td>\n",
              "      <td>2019-01-01</td>\n",
              "      <td>...</td>\n",
              "      <td>Rio de Janeiro (Capital)</td>\n",
              "      <td>Via pública</td>\n",
              "      <td>não se aplica</td>\n",
              "      <td>NaN</td>\n",
              "      <td>não se aplica</td>\n",
              "      <td>não se aplica</td>\n",
              "      <td>Não se aplica</td>\n",
              "      <td>não se aplica</td>\n",
              "      <td>não se aplica</td>\n",
              "      <td>NaN</td>\n",
              "    </tr>\n",
              "    <tr>\n",
              "      <th>451833</th>\n",
              "      <td>00490161-2019</td>\n",
              "      <td>2019</td>\n",
              "      <td>Janeiro</td>\n",
              "      <td>Furto a transeunte</td>\n",
              "      <td>Furto</td>\n",
              "      <td>casos</td>\n",
              "      <td>023a. Meier</td>\n",
              "      <td>005a. Mem de Sá</td>\n",
              "      <td>2019-01-01</td>\n",
              "      <td>2018-12-31</td>\n",
              "      <td>...</td>\n",
              "      <td>Rio de Janeiro (Capital)</td>\n",
              "      <td>Via pública</td>\n",
              "      <td>não se aplica</td>\n",
              "      <td>NaN</td>\n",
              "      <td>não se aplica</td>\n",
              "      <td>não se aplica</td>\n",
              "      <td>Não se aplica</td>\n",
              "      <td>não se aplica</td>\n",
              "      <td>não se aplica</td>\n",
              "      <td>NaN</td>\n",
              "    </tr>\n",
              "    <tr>\n",
              "      <th>451834</th>\n",
              "      <td>00504871-2019</td>\n",
              "      <td>2019</td>\n",
              "      <td>Janeiro</td>\n",
              "      <td>Furto de veículos</td>\n",
              "      <td>Furto</td>\n",
              "      <td>casos</td>\n",
              "      <td>130a. Quissamã</td>\n",
              "      <td>130a. Quissamã</td>\n",
              "      <td>2019-01-01</td>\n",
              "      <td>2019-01-01</td>\n",
              "      <td>...</td>\n",
              "      <td>Carapebus</td>\n",
              "      <td>Praia</td>\n",
              "      <td>não se aplica</td>\n",
              "      <td>NaN</td>\n",
              "      <td>não se aplica</td>\n",
              "      <td>não se aplica</td>\n",
              "      <td>Não se aplica</td>\n",
              "      <td>não se aplica</td>\n",
              "      <td>não se aplica</td>\n",
              "      <td>NaN</td>\n",
              "    </tr>\n",
              "    <tr>\n",
              "      <th>451835</th>\n",
              "      <td>00788311-2019</td>\n",
              "      <td>2019</td>\n",
              "      <td>Janeiro</td>\n",
              "      <td>Furto a transeunte</td>\n",
              "      <td>Furto</td>\n",
              "      <td>casos</td>\n",
              "      <td>005a. Mem de Sá</td>\n",
              "      <td>012a. Copacabana</td>\n",
              "      <td>2019-01-01</td>\n",
              "      <td>2018-12-31</td>\n",
              "      <td>...</td>\n",
              "      <td>Rio de Janeiro (Capital)</td>\n",
              "      <td>Via pública</td>\n",
              "      <td>não se aplica</td>\n",
              "      <td>NaN</td>\n",
              "      <td>não se aplica</td>\n",
              "      <td>não se aplica</td>\n",
              "      <td>Não se aplica</td>\n",
              "      <td>não se aplica</td>\n",
              "      <td>não se aplica</td>\n",
              "      <td>NaN</td>\n",
              "    </tr>\n",
              "  </tbody>\n",
              "</table>\n",
              "<p>5 rows × 23 columns</p>\n",
              "</div>\n",
              "      <button class=\"colab-df-convert\" onclick=\"convertToInteractive('df-0c392b73-77d2-4786-a7b7-56977c87b467')\"\n",
              "              title=\"Convert this dataframe to an interactive table.\"\n",
              "              style=\"display:none;\">\n",
              "        \n",
              "  <svg xmlns=\"http://www.w3.org/2000/svg\" height=\"24px\"viewBox=\"0 0 24 24\"\n",
              "       width=\"24px\">\n",
              "    <path d=\"M0 0h24v24H0V0z\" fill=\"none\"/>\n",
              "    <path d=\"M18.56 5.44l.94 2.06.94-2.06 2.06-.94-2.06-.94-.94-2.06-.94 2.06-2.06.94zm-11 1L8.5 8.5l.94-2.06 2.06-.94-2.06-.94L8.5 2.5l-.94 2.06-2.06.94zm10 10l.94 2.06.94-2.06 2.06-.94-2.06-.94-.94-2.06-.94 2.06-2.06.94z\"/><path d=\"M17.41 7.96l-1.37-1.37c-.4-.4-.92-.59-1.43-.59-.52 0-1.04.2-1.43.59L10.3 9.45l-7.72 7.72c-.78.78-.78 2.05 0 2.83L4 21.41c.39.39.9.59 1.41.59.51 0 1.02-.2 1.41-.59l7.78-7.78 2.81-2.81c.8-.78.8-2.07 0-2.86zM5.41 20L4 18.59l7.72-7.72 1.47 1.35L5.41 20z\"/>\n",
              "  </svg>\n",
              "      </button>\n",
              "      \n",
              "  <style>\n",
              "    .colab-df-container {\n",
              "      display:flex;\n",
              "      flex-wrap:wrap;\n",
              "      gap: 12px;\n",
              "    }\n",
              "\n",
              "    .colab-df-convert {\n",
              "      background-color: #E8F0FE;\n",
              "      border: none;\n",
              "      border-radius: 50%;\n",
              "      cursor: pointer;\n",
              "      display: none;\n",
              "      fill: #1967D2;\n",
              "      height: 32px;\n",
              "      padding: 0 0 0 0;\n",
              "      width: 32px;\n",
              "    }\n",
              "\n",
              "    .colab-df-convert:hover {\n",
              "      background-color: #E2EBFA;\n",
              "      box-shadow: 0px 1px 2px rgba(60, 64, 67, 0.3), 0px 1px 3px 1px rgba(60, 64, 67, 0.15);\n",
              "      fill: #174EA6;\n",
              "    }\n",
              "\n",
              "    [theme=dark] .colab-df-convert {\n",
              "      background-color: #3B4455;\n",
              "      fill: #D2E3FC;\n",
              "    }\n",
              "\n",
              "    [theme=dark] .colab-df-convert:hover {\n",
              "      background-color: #434B5C;\n",
              "      box-shadow: 0px 1px 3px 1px rgba(0, 0, 0, 0.15);\n",
              "      filter: drop-shadow(0px 1px 2px rgba(0, 0, 0, 0.3));\n",
              "      fill: #FFFFFF;\n",
              "    }\n",
              "  </style>\n",
              "\n",
              "      <script>\n",
              "        const buttonEl =\n",
              "          document.querySelector('#df-0c392b73-77d2-4786-a7b7-56977c87b467 button.colab-df-convert');\n",
              "        buttonEl.style.display =\n",
              "          google.colab.kernel.accessAllowed ? 'block' : 'none';\n",
              "\n",
              "        async function convertToInteractive(key) {\n",
              "          const element = document.querySelector('#df-0c392b73-77d2-4786-a7b7-56977c87b467');\n",
              "          const dataTable =\n",
              "            await google.colab.kernel.invokeFunction('convertToInteractive',\n",
              "                                                     [key], {});\n",
              "          if (!dataTable) return;\n",
              "\n",
              "          const docLinkHtml = 'Like what you see? Visit the ' +\n",
              "            '<a target=\"_blank\" href=https://colab.research.google.com/notebooks/data_table.ipynb>data table notebook</a>'\n",
              "            + ' to learn more about interactive tables.';\n",
              "          element.innerHTML = '';\n",
              "          dataTable['output_type'] = 'display_data';\n",
              "          await google.colab.output.renderOutput(dataTable, element);\n",
              "          const docLink = document.createElement('div');\n",
              "          docLink.innerHTML = docLinkHtml;\n",
              "          element.appendChild(docLink);\n",
              "        }\n",
              "      </script>\n",
              "    </div>\n",
              "  </div>\n",
              "  "
            ]
          },
          "metadata": {},
          "execution_count": 29
        }
      ]
    },
    {
      "cell_type": "markdown",
      "source": [
        "Verficando as últimas linhas do dataset."
      ],
      "metadata": {
        "id": "rI-Ie94mF8Jz"
      }
    },
    {
      "cell_type": "code",
      "source": [
        "df_rj.tail()"
      ],
      "metadata": {
        "colab": {
          "base_uri": "https://localhost:8080/",
          "height": 418
        },
        "id": "8LtgVe_6EjwY",
        "outputId": "31a17734-5bf0-429a-e0a8-bb8bc711cfc5"
      },
      "execution_count": null,
      "outputs": [
        {
          "output_type": "execute_result",
          "data": {
            "text/plain": [
              "             controle   ano       mes                  titulo_do total_rbft  \\\n",
              "701664  98774431-2019  2019  Dezembro  Furto de telefone celular      Furto   \n",
              "701665  98930091-2019  2019  Dezembro             Roubo de carga      Roubo   \n",
              "701666  99347581-2019  2019  Dezembro  Roubo de aparelho celular      Roubo   \n",
              "701667  99563211-2019  2019  Dezembro           Roubo de veículo      Roubo   \n",
              "701668  99585861-2019  2019  Dezembro         Furto a transeunte      Furto   \n",
              "\n",
              "       conteudo                  dp                   cisp    data_com  \\\n",
              "701664    casos   052a. Nova Iguaçu      052a. Nova Iguaçu  2019-12-31   \n",
              "701665    casos         073a. Neves            073a. Neves  2019-12-31   \n",
              "701666    casos  054a. Belford Roxo  064a. Vilar dos Teles  2019-12-31   \n",
              "701667    casos    048a. Seropédica           041a. Tanque  2019-12-31   \n",
              "701668    casos        009a. Catete     007a. Santa Tereza  2019-12-31   \n",
              "\n",
              "         data_fato  ...            municipio_fato        local           sexo  \\\n",
              "701664  2019-11-28  ...               Nova Iguaçu       Outros  não se aplica   \n",
              "701665  2019-12-30  ...               São Gonçalo  Via pública  não se aplica   \n",
              "701666  2019-12-31  ...        São João de Meriti  Via pública  não se aplica   \n",
              "701667  2019-12-30  ...  Rio de Janeiro (Capital)  Via pública  não se aplica   \n",
              "701668  2019-12-31  ...  Rio de Janeiro (Capital)  Via pública  não se aplica   \n",
              "\n",
              "       data_nasc            cor      profissao        relacao     bairro_vit  \\\n",
              "701664       NaN  não se aplica  não se aplica  Não se aplica  não se aplica   \n",
              "701665       NaN  não se aplica  não se aplica  Não se aplica  não se aplica   \n",
              "701666       NaN  não se aplica  não se aplica  Não se aplica  não se aplica   \n",
              "701667       NaN  não se aplica  não se aplica  Não se aplica  não se aplica   \n",
              "701668       NaN  não se aplica  não se aplica  Não se aplica  não se aplica   \n",
              "\n",
              "        municipio_vit idade  \n",
              "701664  não se aplica   NaN  \n",
              "701665  não se aplica   NaN  \n",
              "701666  não se aplica   NaN  \n",
              "701667  não se aplica   NaN  \n",
              "701668  não se aplica   NaN  \n",
              "\n",
              "[5 rows x 23 columns]"
            ],
            "text/html": [
              "\n",
              "  <div id=\"df-d9ac7d3b-b9eb-46c7-92c1-cbe982a1bcb7\">\n",
              "    <div class=\"colab-df-container\">\n",
              "      <div>\n",
              "<style scoped>\n",
              "    .dataframe tbody tr th:only-of-type {\n",
              "        vertical-align: middle;\n",
              "    }\n",
              "\n",
              "    .dataframe tbody tr th {\n",
              "        vertical-align: top;\n",
              "    }\n",
              "\n",
              "    .dataframe thead th {\n",
              "        text-align: right;\n",
              "    }\n",
              "</style>\n",
              "<table border=\"1\" class=\"dataframe\">\n",
              "  <thead>\n",
              "    <tr style=\"text-align: right;\">\n",
              "      <th></th>\n",
              "      <th>controle</th>\n",
              "      <th>ano</th>\n",
              "      <th>mes</th>\n",
              "      <th>titulo_do</th>\n",
              "      <th>total_rbft</th>\n",
              "      <th>conteudo</th>\n",
              "      <th>dp</th>\n",
              "      <th>cisp</th>\n",
              "      <th>data_com</th>\n",
              "      <th>data_fato</th>\n",
              "      <th>...</th>\n",
              "      <th>municipio_fato</th>\n",
              "      <th>local</th>\n",
              "      <th>sexo</th>\n",
              "      <th>data_nasc</th>\n",
              "      <th>cor</th>\n",
              "      <th>profissao</th>\n",
              "      <th>relacao</th>\n",
              "      <th>bairro_vit</th>\n",
              "      <th>municipio_vit</th>\n",
              "      <th>idade</th>\n",
              "    </tr>\n",
              "  </thead>\n",
              "  <tbody>\n",
              "    <tr>\n",
              "      <th>701664</th>\n",
              "      <td>98774431-2019</td>\n",
              "      <td>2019</td>\n",
              "      <td>Dezembro</td>\n",
              "      <td>Furto de telefone celular</td>\n",
              "      <td>Furto</td>\n",
              "      <td>casos</td>\n",
              "      <td>052a. Nova Iguaçu</td>\n",
              "      <td>052a. Nova Iguaçu</td>\n",
              "      <td>2019-12-31</td>\n",
              "      <td>2019-11-28</td>\n",
              "      <td>...</td>\n",
              "      <td>Nova Iguaçu</td>\n",
              "      <td>Outros</td>\n",
              "      <td>não se aplica</td>\n",
              "      <td>NaN</td>\n",
              "      <td>não se aplica</td>\n",
              "      <td>não se aplica</td>\n",
              "      <td>Não se aplica</td>\n",
              "      <td>não se aplica</td>\n",
              "      <td>não se aplica</td>\n",
              "      <td>NaN</td>\n",
              "    </tr>\n",
              "    <tr>\n",
              "      <th>701665</th>\n",
              "      <td>98930091-2019</td>\n",
              "      <td>2019</td>\n",
              "      <td>Dezembro</td>\n",
              "      <td>Roubo de carga</td>\n",
              "      <td>Roubo</td>\n",
              "      <td>casos</td>\n",
              "      <td>073a. Neves</td>\n",
              "      <td>073a. Neves</td>\n",
              "      <td>2019-12-31</td>\n",
              "      <td>2019-12-30</td>\n",
              "      <td>...</td>\n",
              "      <td>São Gonçalo</td>\n",
              "      <td>Via pública</td>\n",
              "      <td>não se aplica</td>\n",
              "      <td>NaN</td>\n",
              "      <td>não se aplica</td>\n",
              "      <td>não se aplica</td>\n",
              "      <td>Não se aplica</td>\n",
              "      <td>não se aplica</td>\n",
              "      <td>não se aplica</td>\n",
              "      <td>NaN</td>\n",
              "    </tr>\n",
              "    <tr>\n",
              "      <th>701666</th>\n",
              "      <td>99347581-2019</td>\n",
              "      <td>2019</td>\n",
              "      <td>Dezembro</td>\n",
              "      <td>Roubo de aparelho celular</td>\n",
              "      <td>Roubo</td>\n",
              "      <td>casos</td>\n",
              "      <td>054a. Belford Roxo</td>\n",
              "      <td>064a. Vilar dos Teles</td>\n",
              "      <td>2019-12-31</td>\n",
              "      <td>2019-12-31</td>\n",
              "      <td>...</td>\n",
              "      <td>São João de Meriti</td>\n",
              "      <td>Via pública</td>\n",
              "      <td>não se aplica</td>\n",
              "      <td>NaN</td>\n",
              "      <td>não se aplica</td>\n",
              "      <td>não se aplica</td>\n",
              "      <td>Não se aplica</td>\n",
              "      <td>não se aplica</td>\n",
              "      <td>não se aplica</td>\n",
              "      <td>NaN</td>\n",
              "    </tr>\n",
              "    <tr>\n",
              "      <th>701667</th>\n",
              "      <td>99563211-2019</td>\n",
              "      <td>2019</td>\n",
              "      <td>Dezembro</td>\n",
              "      <td>Roubo de veículo</td>\n",
              "      <td>Roubo</td>\n",
              "      <td>casos</td>\n",
              "      <td>048a. Seropédica</td>\n",
              "      <td>041a. Tanque</td>\n",
              "      <td>2019-12-31</td>\n",
              "      <td>2019-12-30</td>\n",
              "      <td>...</td>\n",
              "      <td>Rio de Janeiro (Capital)</td>\n",
              "      <td>Via pública</td>\n",
              "      <td>não se aplica</td>\n",
              "      <td>NaN</td>\n",
              "      <td>não se aplica</td>\n",
              "      <td>não se aplica</td>\n",
              "      <td>Não se aplica</td>\n",
              "      <td>não se aplica</td>\n",
              "      <td>não se aplica</td>\n",
              "      <td>NaN</td>\n",
              "    </tr>\n",
              "    <tr>\n",
              "      <th>701668</th>\n",
              "      <td>99585861-2019</td>\n",
              "      <td>2019</td>\n",
              "      <td>Dezembro</td>\n",
              "      <td>Furto a transeunte</td>\n",
              "      <td>Furto</td>\n",
              "      <td>casos</td>\n",
              "      <td>009a. Catete</td>\n",
              "      <td>007a. Santa Tereza</td>\n",
              "      <td>2019-12-31</td>\n",
              "      <td>2019-12-31</td>\n",
              "      <td>...</td>\n",
              "      <td>Rio de Janeiro (Capital)</td>\n",
              "      <td>Via pública</td>\n",
              "      <td>não se aplica</td>\n",
              "      <td>NaN</td>\n",
              "      <td>não se aplica</td>\n",
              "      <td>não se aplica</td>\n",
              "      <td>Não se aplica</td>\n",
              "      <td>não se aplica</td>\n",
              "      <td>não se aplica</td>\n",
              "      <td>NaN</td>\n",
              "    </tr>\n",
              "  </tbody>\n",
              "</table>\n",
              "<p>5 rows × 23 columns</p>\n",
              "</div>\n",
              "      <button class=\"colab-df-convert\" onclick=\"convertToInteractive('df-d9ac7d3b-b9eb-46c7-92c1-cbe982a1bcb7')\"\n",
              "              title=\"Convert this dataframe to an interactive table.\"\n",
              "              style=\"display:none;\">\n",
              "        \n",
              "  <svg xmlns=\"http://www.w3.org/2000/svg\" height=\"24px\"viewBox=\"0 0 24 24\"\n",
              "       width=\"24px\">\n",
              "    <path d=\"M0 0h24v24H0V0z\" fill=\"none\"/>\n",
              "    <path d=\"M18.56 5.44l.94 2.06.94-2.06 2.06-.94-2.06-.94-.94-2.06-.94 2.06-2.06.94zm-11 1L8.5 8.5l.94-2.06 2.06-.94-2.06-.94L8.5 2.5l-.94 2.06-2.06.94zm10 10l.94 2.06.94-2.06 2.06-.94-2.06-.94-.94-2.06-.94 2.06-2.06.94z\"/><path d=\"M17.41 7.96l-1.37-1.37c-.4-.4-.92-.59-1.43-.59-.52 0-1.04.2-1.43.59L10.3 9.45l-7.72 7.72c-.78.78-.78 2.05 0 2.83L4 21.41c.39.39.9.59 1.41.59.51 0 1.02-.2 1.41-.59l7.78-7.78 2.81-2.81c.8-.78.8-2.07 0-2.86zM5.41 20L4 18.59l7.72-7.72 1.47 1.35L5.41 20z\"/>\n",
              "  </svg>\n",
              "      </button>\n",
              "      \n",
              "  <style>\n",
              "    .colab-df-container {\n",
              "      display:flex;\n",
              "      flex-wrap:wrap;\n",
              "      gap: 12px;\n",
              "    }\n",
              "\n",
              "    .colab-df-convert {\n",
              "      background-color: #E8F0FE;\n",
              "      border: none;\n",
              "      border-radius: 50%;\n",
              "      cursor: pointer;\n",
              "      display: none;\n",
              "      fill: #1967D2;\n",
              "      height: 32px;\n",
              "      padding: 0 0 0 0;\n",
              "      width: 32px;\n",
              "    }\n",
              "\n",
              "    .colab-df-convert:hover {\n",
              "      background-color: #E2EBFA;\n",
              "      box-shadow: 0px 1px 2px rgba(60, 64, 67, 0.3), 0px 1px 3px 1px rgba(60, 64, 67, 0.15);\n",
              "      fill: #174EA6;\n",
              "    }\n",
              "\n",
              "    [theme=dark] .colab-df-convert {\n",
              "      background-color: #3B4455;\n",
              "      fill: #D2E3FC;\n",
              "    }\n",
              "\n",
              "    [theme=dark] .colab-df-convert:hover {\n",
              "      background-color: #434B5C;\n",
              "      box-shadow: 0px 1px 3px 1px rgba(0, 0, 0, 0.15);\n",
              "      filter: drop-shadow(0px 1px 2px rgba(0, 0, 0, 0.3));\n",
              "      fill: #FFFFFF;\n",
              "    }\n",
              "  </style>\n",
              "\n",
              "      <script>\n",
              "        const buttonEl =\n",
              "          document.querySelector('#df-d9ac7d3b-b9eb-46c7-92c1-cbe982a1bcb7 button.colab-df-convert');\n",
              "        buttonEl.style.display =\n",
              "          google.colab.kernel.accessAllowed ? 'block' : 'none';\n",
              "\n",
              "        async function convertToInteractive(key) {\n",
              "          const element = document.querySelector('#df-d9ac7d3b-b9eb-46c7-92c1-cbe982a1bcb7');\n",
              "          const dataTable =\n",
              "            await google.colab.kernel.invokeFunction('convertToInteractive',\n",
              "                                                     [key], {});\n",
              "          if (!dataTable) return;\n",
              "\n",
              "          const docLinkHtml = 'Like what you see? Visit the ' +\n",
              "            '<a target=\"_blank\" href=https://colab.research.google.com/notebooks/data_table.ipynb>data table notebook</a>'\n",
              "            + ' to learn more about interactive tables.';\n",
              "          element.innerHTML = '';\n",
              "          dataTable['output_type'] = 'display_data';\n",
              "          await google.colab.output.renderOutput(dataTable, element);\n",
              "          const docLink = document.createElement('div');\n",
              "          docLink.innerHTML = docLinkHtml;\n",
              "          element.appendChild(docLink);\n",
              "        }\n",
              "      </script>\n",
              "    </div>\n",
              "  </div>\n",
              "  "
            ]
          },
          "metadata": {},
          "execution_count": 30
        }
      ]
    },
    {
      "cell_type": "markdown",
      "source": [
        "A seguir, é apresentado a quantidade de linhas e colunas do dataset e o tipo das variáveis."
      ],
      "metadata": {
        "id": "4wjnT8fLGB41"
      }
    },
    {
      "cell_type": "code",
      "source": [
        "#Tamanho do dataset \n",
        "print(f'Nº de Linhas: {df.shape[0]}')\n",
        "print(f'Nº de Colunas: {df.shape[1]}')\n",
        "\n",
        "#Tipo das variáveis\n",
        "df.dtypes.sort_values(ascending=False)"
      ],
      "metadata": {
        "colab": {
          "base_uri": "https://localhost:8080/"
        },
        "id": "ZW579i_RExnS",
        "outputId": "268ec336-be05-4087-e6f9-491f1e4cd2f8"
      },
      "execution_count": null,
      "outputs": [
        {
          "output_type": "stream",
          "name": "stdout",
          "text": [
            "Nº de Linhas: 701669\n",
            "Nº de Colunas: 23\n"
          ]
        },
        {
          "output_type": "execute_result",
          "data": {
            "text/plain": [
              "controle           object\n",
              "bairro_fato        object\n",
              "municipio_vit      object\n",
              "bairro_vit         object\n",
              "relacao            object\n",
              "profissao          object\n",
              "cor                object\n",
              "data_nasc          object\n",
              "sexo               object\n",
              "local              object\n",
              "municipio_fato     object\n",
              "hora_fato          object\n",
              "hora_com           object\n",
              "data_fato          object\n",
              "data_com           object\n",
              "cisp               object\n",
              "dp                 object\n",
              "conteudo           object\n",
              "total_rbft         object\n",
              "titulo_do          object\n",
              "mes                object\n",
              "idade             float64\n",
              "ano                 int64\n",
              "dtype: object"
            ]
          },
          "metadata": {},
          "execution_count": 31
        }
      ]
    },
    {
      "cell_type": "code",
      "source": [
        "# Lista os nomes das colunas do dataset\n",
        "print(\"Colunas\")\n",
        "print(df_rj.columns)"
      ],
      "metadata": {
        "colab": {
          "base_uri": "https://localhost:8080/"
        },
        "id": "rdY7nWTuE7CT",
        "outputId": "305f07a4-c0ef-4c7d-daa2-b34db93ef9a8"
      },
      "execution_count": null,
      "outputs": [
        {
          "output_type": "stream",
          "name": "stdout",
          "text": [
            "Colunas\n",
            "Index(['controle', 'ano', 'mes', 'titulo_do', 'total_rbft', 'conteudo', 'dp',\n",
            "       'cisp', 'data_com', 'data_fato', 'hora_com', 'hora_fato', 'bairro_fato',\n",
            "       'municipio_fato', 'local', 'sexo', 'data_nasc', 'cor', 'profissao',\n",
            "       'relacao', 'bairro_vit', 'municipio_vit', 'idade'],\n",
            "      dtype='object')\n"
          ]
        }
      ]
    },
    {
      "cell_type": "markdown",
      "source": [
        "A qualidade do dataset está diretamente relacionado com a quantidade de valores ausentes, com isso, iremos verificar a porcentagem dos valores ausentes."
      ],
      "metadata": {
        "id": "OKm7jfEfGLO5"
      }
    },
    {
      "cell_type": "code",
      "source": [
        "#Verificando a porcentagem dos valores nulos\n",
        "((df_rj.isnull().sum() / 701669) * 100).sort_values(ascending=False)"
      ],
      "metadata": {
        "colab": {
          "base_uri": "https://localhost:8080/"
        },
        "id": "89Cil0UuFErI",
        "outputId": "67c37f54-82ae-473d-978d-2a4d33a00e83"
      },
      "execution_count": null,
      "outputs": [
        {
          "output_type": "execute_result",
          "data": {
            "text/plain": [
              "idade             34.309197\n",
              "data_nasc         34.307914\n",
              "data_fato          0.000570\n",
              "dp                 0.000428\n",
              "municipio_fato     0.000000\n",
              "municipio_vit      0.000000\n",
              "bairro_vit         0.000000\n",
              "relacao            0.000000\n",
              "profissao          0.000000\n",
              "cor                0.000000\n",
              "sexo               0.000000\n",
              "local              0.000000\n",
              "controle           0.000000\n",
              "bairro_fato        0.000000\n",
              "ano                0.000000\n",
              "hora_com           0.000000\n",
              "data_com           0.000000\n",
              "cisp               0.000000\n",
              "conteudo           0.000000\n",
              "total_rbft         0.000000\n",
              "titulo_do          0.000000\n",
              "mes                0.000000\n",
              "hora_fato          0.000000\n",
              "dtype: float64"
            ]
          },
          "metadata": {},
          "execution_count": 33
        }
      ]
    },
    {
      "cell_type": "code",
      "source": [
        "#Verificando a quantidade valores nulos\n",
        "df_rj.isnull().sum()"
      ],
      "metadata": {
        "colab": {
          "base_uri": "https://localhost:8080/"
        },
        "id": "osNJ4y4FGSsm",
        "outputId": "53967a9c-fe8e-42eb-efad-6be0418e7b87"
      },
      "execution_count": null,
      "outputs": [
        {
          "output_type": "execute_result",
          "data": {
            "text/plain": [
              "controle               0\n",
              "ano                    0\n",
              "mes                    0\n",
              "titulo_do              0\n",
              "total_rbft             0\n",
              "conteudo               0\n",
              "dp                     3\n",
              "cisp                   0\n",
              "data_com               0\n",
              "data_fato              4\n",
              "hora_com               0\n",
              "hora_fato              0\n",
              "bairro_fato            0\n",
              "municipio_fato         0\n",
              "local                  0\n",
              "sexo                   0\n",
              "data_nasc         240728\n",
              "cor                    0\n",
              "profissao              0\n",
              "relacao                0\n",
              "bairro_vit             0\n",
              "municipio_vit          0\n",
              "idade             240737\n",
              "dtype: int64"
            ]
          },
          "metadata": {},
          "execution_count": 34
        }
      ]
    },
    {
      "cell_type": "markdown",
      "source": [
        "Nota-se que 4 variáveis apresentam valores nulos, sendo elas `idade`, `data_nasc`, `hora_fato` e `dp`. Observe-se também que `data_nasc` e `idade` têm 34% das entradas nulas cada uma."
      ],
      "metadata": {
        "id": "5gf4m2C1GojL"
      }
    },
    {
      "cell_type": "markdown",
      "source": [
        "Abaixo temos o resumo do dataset."
      ],
      "metadata": {
        "id": "kpN8Hu64H-Gv"
      }
    },
    {
      "cell_type": "code",
      "source": [
        "#Resumo do dataset\n",
        "df_rj.info()"
      ],
      "metadata": {
        "colab": {
          "base_uri": "https://localhost:8080/"
        },
        "id": "C4lGrscKFiif",
        "outputId": "8d561d0c-bb7a-4638-f1c3-04682f03e1ce"
      },
      "execution_count": null,
      "outputs": [
        {
          "output_type": "stream",
          "name": "stdout",
          "text": [
            "<class 'pandas.core.frame.DataFrame'>\n",
            "Int64Index: 249838 entries, 451831 to 701668\n",
            "Data columns (total 23 columns):\n",
            " #   Column          Non-Null Count   Dtype  \n",
            "---  ------          --------------   -----  \n",
            " 0   controle        249838 non-null  object \n",
            " 1   ano             249838 non-null  int64  \n",
            " 2   mes             249838 non-null  object \n",
            " 3   titulo_do       249838 non-null  object \n",
            " 4   total_rbft      249838 non-null  object \n",
            " 5   conteudo        249838 non-null  object \n",
            " 6   dp              249835 non-null  object \n",
            " 7   cisp            249838 non-null  object \n",
            " 8   data_com        249838 non-null  object \n",
            " 9   data_fato       249834 non-null  object \n",
            " 10  hora_com        249838 non-null  object \n",
            " 11  hora_fato       249838 non-null  object \n",
            " 12  bairro_fato     249838 non-null  object \n",
            " 13  municipio_fato  249838 non-null  object \n",
            " 14  local           249838 non-null  object \n",
            " 15  sexo            249838 non-null  object \n",
            " 16  data_nasc       9110 non-null    object \n",
            " 17  cor             249838 non-null  object \n",
            " 18  profissao       249838 non-null  object \n",
            " 19  relacao         249838 non-null  object \n",
            " 20  bairro_vit      249838 non-null  object \n",
            " 21  municipio_vit   249838 non-null  object \n",
            " 22  idade           9101 non-null    float64\n",
            "dtypes: float64(1), int64(1), object(21)\n",
            "memory usage: 45.7+ MB\n"
          ]
        }
      ]
    },
    {
      "cell_type": "markdown",
      "source": [
        "###Análise de Roubos e Furtos no estado do Rio de Janeiro"
      ],
      "metadata": {
        "id": "Ca2gDEO-H1pF"
      }
    },
    {
      "cell_type": "code",
      "source": [
        "# Lista dos tipos de crimes\n",
        "print(\"Lista de crimes no Estado do Rio de Janeiro\")\n",
        "print(df_rj.titulo_do.value_counts(), '\\n')"
      ],
      "metadata": {
        "colab": {
          "base_uri": "https://localhost:8080/"
        },
        "id": "3VWMe6eLGYkh",
        "outputId": "489d0930-a85f-40b5-ea3a-d1d2a50b416b"
      },
      "execution_count": null,
      "outputs": [
        {
          "output_type": "stream",
          "name": "stdout",
          "text": [
            "Lista de crimes no Estado do Rio de Janeiro\n",
            "Roubo a transeunte                           78329\n",
            "Roubo de veículo                             39749\n",
            "Roubo de aparelho celular                    26788\n",
            "Furto a transeunte                           20253\n",
            "Furto de telefone celular                    18343\n",
            "Furto de veículos                            15595\n",
            "Roubo em coletivo                            15354\n",
            "Furto em coletivo                             7924\n",
            "Roubo de carga                                7456\n",
            "Estupro                                       5450\n",
            "Roubo a estabelecimento comercial             5005\n",
            "Homicídio doloso                              4004\n",
            "Furto de bicicleta                            2470\n",
            "Morte por intervenção de agente do Estado     1814\n",
            "Roubo a residência                            1130\n",
            "Latrocínio (Roubo seguido de morte)            117\n",
            "Roubo de caixa eletrônico                       37\n",
            "Roubo a banco                                   20\n",
            "Name: titulo_do, dtype: int64 \n",
            "\n"
          ]
        }
      ]
    },
    {
      "cell_type": "markdown",
      "source": [
        "Nessa etapa, iremos comparar os roubos e furtos em diferentes cidades do estado do Rio de Janeiro. "
      ],
      "metadata": {
        "id": "rU2X_O1LIZau"
      }
    },
    {
      "cell_type": "code",
      "source": [
        "#Selecionando os dados classificados como roubo e furto\n",
        "roubo_rj = df_rj.loc[df_rj[\"total_rbft\"] == 'Roubo'] # apenas os dados de roubo no RJ\n",
        "furto_rj = df_rj.loc[df_rj[\"total_rbft\"] == 'Furto'] # apenas os dados de furto no RJ\n",
        "\n",
        "#Agrupando as 10 cidades com maior ocorrência de roubos e furtos\n",
        "city1 = roubo_rj[['total_rbft', 'municipio_fato']].groupby('municipio_fato', \n",
        "                as_index=False).count().sort_values(by='total_rbft', ascending=False)[:10]\n",
        "city2 = furto_rj[['total_rbft', 'municipio_fato']].groupby('municipio_fato', \n",
        "                as_index=False).count().sort_values(by='total_rbft', ascending=False)[:10]"
      ],
      "metadata": {
        "id": "85Dr2v15ICQe"
      },
      "execution_count": null,
      "outputs": []
    },
    {
      "cell_type": "code",
      "source": [
        "#plotar gráfico\n",
        "fig, ax = plt.subplots(1,2,figsize=(14,7))\n",
        "ax[0].barh(city1[\"municipio_fato\"], city1[\"total_rbft\"],align=\"center\",color=\"dodgerblue\")\n",
        "ax[1].barh(city2[\"municipio_fato\"], city1[\"total_rbft\"],align=\"center\",color=\"dodgerblue\")\n",
        "ax[0].set_title(\"Cidades com mais ROUBOS no RJ em 2019\")\n",
        "ax[1].set_title(\"Cidades com mais FURTOS no RJ em 2019\")\n",
        "\n",
        "plt.tight_layout()\n",
        "plt.show()"
      ],
      "metadata": {
        "colab": {
          "base_uri": "https://localhost:8080/",
          "height": 513
        },
        "id": "Lr7evY35JA7L",
        "outputId": "9dda11bf-a787-4cfd-eccd-11cb1ff4b111"
      },
      "execution_count": null,
      "outputs": [
        {
          "output_type": "display_data",
          "data": {
            "text/plain": [
              "<Figure size 1008x504 with 2 Axes>"
            ],
            "image/png": "[encoded data removed]"
          },
          "metadata": {}
        }
      ]
    },
    {
      "cell_type": "markdown",
      "source": [
        "Observa-se que a maioria esmagadora das ocorrência de roubo e furto no estado do RJ, se dá na capital."
      ],
      "metadata": {
        "id": "sk4SFhS7Ki7b"
      }
    },
    {
      "cell_type": "markdown",
      "source": [
        "Em seguida, vamos comparar a ocorrência dos diferentes tipos de roubo e furtos no RJ."
      ],
      "metadata": {
        "id": "TvAmvkiuLPM8"
      }
    },
    {
      "cell_type": "code",
      "source": [
        "#imprimir gráfico para comparação\n",
        "f, (ax1,ax2) = plt.subplots(1,2,figsize=(15,6))\n",
        "roubo_rj[\"titulo_do\"].value_counts().plot(kind=\"barh\",ax=ax1,color=\"dodgerblue\")\n",
        "furto_rj[\"titulo_do\"].value_counts().plot(kind=\"barh\",ax=ax2,color=\"dodgerblue\")\n",
        "ax1.set_title(\"Roubos no RJ\")\n",
        "ax2.set_title(\"Furtos no RJ\")\n",
        "plt.tight_layout()"
      ],
      "metadata": {
        "colab": {
          "base_uri": "https://localhost:8080/",
          "height": 441
        },
        "id": "RvXrLG_F3b6c",
        "outputId": "54a2fa96-3b77-4195-ec9d-15b7c2a20e5e"
      },
      "execution_count": null,
      "outputs": [
        {
          "output_type": "display_data",
          "data": {
            "text/plain": [
              "<Figure size 1080x432 with 2 Axes>"
            ],
            "image/png": "[encoded data removed]"
          },
          "metadata": {}
        }
      ]
    },
    {
      "cell_type": "markdown",
      "source": [
        "Os transeuntes tiveram mais ocorrência em relação aos outros tipos de crimes, tanto para roubo quanto para furto."
      ],
      "metadata": {
        "id": "Afle-zWBLj0G"
      }
    },
    {
      "cell_type": "markdown",
      "source": [
        "###Análise do Mês e Horário que ocorrem os crimes"
      ],
      "metadata": {
        "id": "8erNtKHlLkkx"
      }
    },
    {
      "cell_type": "markdown",
      "source": [
        "Com intuito de entendermos em qual período do ano e em qual horário acontecem a maior quantidade de crimes relacionado a roubo e furto, iremos plotar graficos para análise.  "
      ],
      "metadata": {
        "id": "8ORDFMlxNlG3"
      }
    },
    {
      "cell_type": "code",
      "source": [
        "#Plotar o gráfio\n",
        "figu, ax = plt.subplots(1,2,figsize=(10,5))\n",
        "sns.countplot(y=\"mes\", data=roubo_rj,ax=ax[0], palette='rocket')\n",
        "sns.countplot(y=\"mes\", data=furto_rj,ax=ax[1], palette='rocket')\n",
        "\n",
        "ax[0].set_title(\"Quantidade de roubo por mês no RJ\")\n",
        "ax[1].set_title(\"Quantidade de furto por mês no RJ\")\n",
        "plt.tight_layout()"
      ],
      "metadata": {
        "colab": {
          "base_uri": "https://localhost:8080/",
          "height": 369
        },
        "id": "6V9yEl4vR_5t",
        "outputId": "c366c73a-c498-4b9a-eb70-3a7a655f6ed9"
      },
      "execution_count": null,
      "outputs": [
        {
          "output_type": "display_data",
          "data": {
            "text/plain": [
              "<Figure size 720x360 with 2 Axes>"
            ],
            "image/png": "[encoded data removed]"
          },
          "metadata": {}
        }
      ]
    },
    {
      "cell_type": "markdown",
      "source": [
        "Observa-se que no primeiro semestre do ano houve uma quantidade ligeiramente maior de ocorrência, tanto para roubo quanto para furto, tendo o pico no mês de março."
      ],
      "metadata": {
        "id": "tv3hN0rIOx8M"
      }
    },
    {
      "cell_type": "markdown",
      "source": [
        "Agora vamos analisar o horário que ocorrem a maior quantidade de casos"
      ],
      "metadata": {
        "id": "F4ENCu29Ugou"
      }
    },
    {
      "cell_type": "code",
      "source": [
        "\n",
        "#formantar a hora da ocorrência\n",
        "df_rj[\"hora_fato\"] = df_rj[\"hora_fato\"].replace(\"99\", np.NaN)\n",
        "df_rj['hora_fato'] = pd.to_datetime(df_rj['hora_fato'], errors='coerce')\n",
        "df_rj['hora_fato'] = pd.to_datetime(df_rj['hora_fato'], format='%H:%M', errors='coerce').dt.time\n",
        "\n",
        "#pegar os valroes não nulos\n",
        "nao_nulos = df_rj['hora_fato'].notnull()\n",
        "pontos_rj = df_rj[nao_nulos]\n",
        "\n",
        "#criar uma lista com os valores\n",
        "lista = pd.Series.tolist(pontos_rj['hora_fato'])\n",
        "new_list_rj = []\n",
        "for item in lista:\n",
        "    new_list_rj.append(item.hour)\n",
        "    \n",
        "hora_rj = pd.DataFrame(new_list_rj, columns = ['QTD']) # criar um dateframe com a lista\n",
        "hora_rj = pd.DataFrame(hora_rj['QTD'].value_counts()) # contar a quantidade de cada valor\n",
        "hora_rj['HORA'] = hora_rj.index"
      ],
      "metadata": {
        "id": "99Lqc6OTLIXg"
      },
      "execution_count": null,
      "outputs": []
    },
    {
      "cell_type": "code",
      "source": [
        "#Plotar gráfico QTD BO versus hora\n",
        "fi, ax = plt.subplots(figsize=(10,6))\n",
        "\n",
        "sns.lineplot(hora_rj.HORA, hora_rj.QTD, marker=\"o\", color='dodgerblue')\n",
        "\n",
        "ax.set_title(\"Quantidade de ocorrência por hora no Rio de Janeiro\")"
      ],
      "metadata": {
        "colab": {
          "base_uri": "https://localhost:8080/",
          "height": 481
        },
        "id": "Wac_HVoLQD03",
        "outputId": "314ab73c-88fa-4a5c-9e49-5d7f1243f7bc"
      },
      "execution_count": null,
      "outputs": [
        {
          "output_type": "stream",
          "name": "stderr",
          "text": [
            "/usr/local/lib/python3.7/dist-packages/seaborn/_decorators.py:43: FutureWarning: Pass the following variables as keyword args: x, y. From version 0.12, the only valid positional argument will be `data`, and passing other arguments without an explicit keyword will result in an error or misinterpretation.\n",
            "  FutureWarning\n"
          ]
        },
        {
          "output_type": "execute_result",
          "data": {
            "text/plain": [
              "Text(0.5, 1.0, 'Quantidade de ocorrência por hora no Rio de Janeiro')"
            ]
          },
          "metadata": {},
          "execution_count": 43
        },
        {
          "output_type": "display_data",
          "data": {
            "text/plain": [
              "<Figure size 720x432 with 1 Axes>"
            ],
            "image/png": "[encoded data removed]"
          },
          "metadata": {}
        }
      ]
    },
    {
      "cell_type": "markdown",
      "source": [
        "O gráfico mostra que a maior quantidade de casos ocorrem a noite tendo o pico às 20h."
      ],
      "metadata": {
        "id": "77Q6m-4yQ_UV"
      }
    },
    {
      "cell_type": "markdown",
      "source": [
        "###Análise de crimes relacionados à vida"
      ],
      "metadata": {
        "id": "nxPjozgvV2F9"
      }
    },
    {
      "cell_type": "markdown",
      "source": [
        "Após temos realizado a análise de roubo e furto, nos iremos agora analisar os crimes relacionados à vida. Primeiro, iremos verificar as cidades do estado do RJ que possuem a maior quantidade de casos e em seguida examinar a média de idade das vítimas."
      ],
      "metadata": {
        "id": "GF2PpNOIR3pE"
      }
    },
    {
      "cell_type": "code",
      "source": [
        "#Selecionando os dados classificados como Homicídio doloso\n",
        "hom_doloso = df_rj.loc[df_rj[\"titulo_do\"] == 'Homicídio doloso'] # apenas os dados de roubo no RJ\n",
        "\n",
        "#Agrupando as 10 cidades com maior ocorrência de roubos e furtos\n",
        "cidades = hom_doloso[['titulo_do', 'municipio_fato']].groupby('municipio_fato', \n",
        "                as_index=False).count().sort_values(by='titulo_do', ascending=False)[:10]\n"
      ],
      "metadata": {
        "id": "fFlZYurrVluM"
      },
      "execution_count": null,
      "outputs": []
    },
    {
      "cell_type": "code",
      "source": [
        "#plotar gráfico\n",
        "fig, ax = plt.subplots(figsize=(10,6))\n",
        "ax.barh(cidades[\"municipio_fato\"], cidades[\"titulo_do\"],align=\"center\",color=\"dodgerblue\")\n",
        "ax.set_title(\"Cidades com mais casos de HOMICÍDIO DOLOSO no RJ em 2019\")\n",
        "\n",
        "\n",
        "plt.tight_layout()\n",
        "plt.show()"
      ],
      "metadata": {
        "colab": {
          "base_uri": "https://localhost:8080/",
          "height": 441
        },
        "id": "9BOVyW-tWxAE",
        "outputId": "c6163e95-e61f-4ec3-ca37-e7606865571f"
      },
      "execution_count": null,
      "outputs": [
        {
          "output_type": "display_data",
          "data": {
            "text/plain": [
              "<Figure size 720x432 with 1 Axes>"
            ],
            "image/png": "[encoded data removed]"
          },
          "metadata": {}
        }
      ]
    },
    {
      "cell_type": "markdown",
      "source": [
        "O gráfico mostra que a cidade que ocorre a maior quantidade de casos é a capital Rio de Janeiro, tento os números muito superior as outras cidades."
      ],
      "metadata": {
        "id": "CVIkhfHPSiU7"
      }
    },
    {
      "cell_type": "markdown",
      "source": [
        "Após analise das cidades com mais casos, vamos verificar a média da idade das vítimas do crime homicídio doloso"
      ],
      "metadata": {
        "id": "bTMjy3Y1XiCS"
      }
    },
    {
      "cell_type": "code",
      "source": [
        "#Calcular a média das idades para o sexo masculino e feminino\n",
        "vitimas = hom_doloso[['sexo', 'conteudo', \"idade\"]].loc[(((hom_doloso['sexo'].str.contains('feminino')) | (hom_doloso['sexo'].str.contains('masculino')))\n",
        "\n",
        "         & (hom_doloso['sexo'].isna() == False)) & (((hom_doloso['conteudo'].str.contains('vítimas')))\n",
        "        \n",
        "         & (hom_doloso['conteudo'].isna() == False)) & ((hom_doloso['idade'].isna() == False))].groupby(['sexo'], as_index=False).mean()"
      ],
      "metadata": {
        "id": "H8ox3aOMZHg4"
      },
      "execution_count": null,
      "outputs": []
    },
    {
      "cell_type": "code",
      "source": [
        "#Plotar gráfico \n",
        "fig, ax = plt.subplots(figsize = (7,6))\n",
        "sns.barplot(x=\"sexo\", y=\"idade\", data=vitimas, palette = 'magma')\n",
        "ax.set_title(\"Idade Média das pessoas Vítima de HOMICÍDIO DOLOSO no RJ\")\n",
        "ax.set_xlabel(\"Gênero\")\n",
        "ax.set_ylabel(\"Idade Média\")"
      ],
      "metadata": {
        "colab": {
          "base_uri": "https://localhost:8080/",
          "height": 426
        },
        "id": "vuSCTJi5bEOi",
        "outputId": "ea934848-d64b-489a-f893-3f13f5a80f3a"
      },
      "execution_count": null,
      "outputs": [
        {
          "output_type": "execute_result",
          "data": {
            "text/plain": [
              "Text(0, 0.5, 'Idade Média')"
            ]
          },
          "metadata": {},
          "execution_count": 19
        },
        {
          "output_type": "display_data",
          "data": {
            "text/plain": [
              "<Figure size 504x432 with 1 Axes>"
            ],
            "image/png": "[encoded data removed]"
          },
          "metadata": {}
        }
      ]
    },
    {
      "cell_type": "markdown",
      "source": [
        "Podemos observar que o gênero masculino teve uma média em torno de 31 anos em quanto o feminino teve 34 anos como média. "
      ],
      "metadata": {
        "id": "DZ4IgR-tYYda"
      }
    },
    {
      "cell_type": "markdown",
      "source": [
        "#Conclusão"
      ],
      "metadata": {
        "id": "frpyMa5IZUbK"
      }
    },
    {
      "cell_type": "markdown",
      "source": [
        "Foi realizado uma análise exploratório do conjunto de dados do Instituto de Segurança Pública do Rio de Janeiro, foi possivel perceber dados ausentes para algumas variáveis, mas isso é algo normal porque se trata de uma base de dados real.\n",
        "\n",
        "Todavia, os dados mostram a criminalidade alta no estado do RJ, principalmente na capital. Em vista que, a maioria dos casos de homicídio doloso, roubo e furtos possuem números superiores comparados a outras cidades do estado."
      ],
      "metadata": {
        "id": "_fiNdU55ZW9M"
      }
    }
  ]
}